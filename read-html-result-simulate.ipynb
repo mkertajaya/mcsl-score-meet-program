{
 "cells": [
  {
   "attachments": {},
   "cell_type": "markdown",
   "metadata": {},
   "source": [
    "# Read html results and simulate next match\n",
    "### Needs couple htmls files from mcsl results"
   ]
  },
  {
   "cell_type": "code",
   "execution_count": 198,
   "metadata": {
    "tags": []
   },
   "outputs": [],
   "source": [
    "from bs4 import BeautifulSoup\n",
    "import csv\n",
    "import os\n",
    "import glob\n",
    "import pandas as pd"
   ]
  },
  {
   "cell_type": "code",
   "execution_count": 199,
   "metadata": {
    "tags": []
   },
   "outputs": [],
   "source": [
    "#files/folder to simulate\n",
    "htmlbasepath = \"./data/result-simulate\"\n",
    "htmlfiles = [\"FVvRV.html\", \"CGvPO.html\", \"SGvSB.html\"]"
   ]
  },
  {
   "cell_type": "code",
   "execution_count": 200,
   "metadata": {
    "tags": []
   },
   "outputs": [],
   "source": [
    "# Prepare an empty list to hold the BeautifulSoup objects\n",
    "soups = []\n",
    "# read files\n",
    "for htmlfile in htmlfiles:\n",
    "    htmlpath = os.path.join(htmlbasepath, f\"{htmlfile}\")\n",
    "    #print(htmlpath)\n",
    "    with open(htmlpath, \"r\") as f:\n",
    "        contents = f.read()\n",
    "        soup = BeautifulSoup(contents, \"lxml\")\n",
    "        # Append the BeautifulSoup object to the list\n",
    "        soups.append(soup)\n",
    "\n",
    "# print(soup.prettify())"
   ]
  },
  {
   "cell_type": "code",
   "execution_count": 201,
   "metadata": {
    "tags": []
   },
   "outputs": [],
   "source": [
    "#start recording\n",
    "record = []\n",
    "\n",
    "for soup in soups:\n",
    "    \n",
    "    table = soup.find(\"table\")\n",
    "    cols = table.findAll(\"td\")\n",
    "\n",
    "    content = []\n",
    "    result = []\n",
    "\n",
    "    for td in cols:\n",
    "        try:\n",
    "            string = \"\".join(td.find(string=True))\n",
    "            content.append(string)\n",
    "        except: pass\n",
    "\n",
    "    event = content[0]\n",
    "\n",
    "    #loop the rest\n",
    "    for line in content:\n",
    "        if line[0:5] == \"Event\":\n",
    "            event = line\n",
    "        else:\n",
    "            #start of new record, when it sees rank\n",
    "            if (line[1:2] == \".\" and len(line)==2) or (line[2:3] == \".\" and len(line) == 3) or (line[2:3] == \"T\" and len(line) == 4): #T is for tie\n",
    "                if result:\n",
    "                    record.append(result)\n",
    "                    result = []\n",
    "                result.append(event)\n",
    "                result.append(line)\n",
    "            else:\n",
    "                result.append(line)\n",
    "\n"
   ]
  },
  {
   "cell_type": "code",
   "execution_count": 202,
   "metadata": {},
   "outputs": [],
   "source": [
    "df = pd.DataFrame(record, columns =[\"event\", \"rank\", \"swimmer\", \"seed\", \"final\", \"extra\"]) \n",
    "#not sure why there is extra column - investigate later\n",
    "df.drop(columns=[\"extra\"], inplace=True)"
   ]
  },
  {
   "cell_type": "code",
   "execution_count": 203,
   "metadata": {},
   "outputs": [],
   "source": [
    "#splitting swimmer colunn into 3\n",
    "df[[\"swimmer_name\", \"swimmer_age\", \"swimmer_team\"]] = df[\"swimmer\"].str.split(pat=\"(\", expand=True, n=2)\n",
    "\n",
    "#dropping swimmer column\n",
    "del df[\"swimmer\"]"
   ]
  },
  {
   "cell_type": "code",
   "execution_count": 204,
   "metadata": {},
   "outputs": [],
   "source": [
    "#remove \")\" from age and team, except for those relays\n",
    "df[\"swimmer_age\"] = df[\"swimmer_age\"].apply(lambda x: x.replace(\")\", \"\") if x is not None else x)\n",
    "df[\"swimmer_team\"] = df[\"swimmer_team\"].apply(lambda x:x.replace(\")\", \"\") if x is not None else x)\n"
   ]
  },
  {
   "cell_type": "code",
   "execution_count": 205,
   "metadata": {},
   "outputs": [],
   "source": [
    "#event to exclude (all relays), relays have a blank name\n",
    "df = df[~df['swimmer_team'].isna()]\n",
    "\n",
    "#Remove rows with NT on Time colunn\n",
    "values_to_exclude = [\"NT\", \"NS\", \"DQ\", \"DNF\"]\n",
    "df = df[~df[\"final\"].isin(values_to_exclude)]\n",
    "\n",
    "#Remove team that is not simulated\n",
    "team_to_exclude = [\"SB\", \"FV\", \"CG\", \"PO\"]\n",
    "df = df[~df[\"swimmer_team\"].isin(team_to_exclude)]\n"
   ]
  },
  {
   "cell_type": "code",
   "execution_count": 206,
   "metadata": {},
   "outputs": [],
   "source": [
    "# Function to convert time to seconds for sorting\n",
    "def time_to_seconds(time):\n",
    "    if \":\" in time:\n",
    "        minutes, seconds = time.split(\":\")\n",
    "        return int(minutes) * 60 + float(seconds)\n",
    "    else:\n",
    "        return float(time)"
   ]
  },
  {
   "cell_type": "code",
   "execution_count": 207,
   "metadata": {},
   "outputs": [],
   "source": [
    "#this cell is to prep for score assignment\n",
    "\n",
    "# Convert time to seconds\n",
    "df[\"TimeInSeconds\"] = df[\"final\"].apply(time_to_seconds)\n",
    "\n",
    "# Sort by event and time\n",
    "df = df.sort_values([\"event\", \"TimeInSeconds\"])\n",
    "\n",
    "# Assign ranks within each event group\n",
    "df[\"Rank\"] = df.groupby(\"event\")[\"TimeInSeconds\"].rank()\n",
    "\n",
    "# Scoring system\n",
    "scores = {1.0: 6, 2.0: 4, 3.0: 3, 4.0: 2, 5.0: 1}\n",
    "\n",
    "# Assign scores based on ranks\n",
    "df[\"Score\"] = df[\"Rank\"].map(scores).fillna(0)\n",
    "\n",
    "# Drop auxiliary columns\n",
    "df = df.drop([\"TimeInSeconds\", \"Rank\"], axis=1)"
   ]
  },
  {
   "cell_type": "code",
   "execution_count": 208,
   "metadata": {},
   "outputs": [],
   "source": [
    "df.to_csv(\"simulate.csv\", index=False)"
   ]
  },
  {
   "cell_type": "code",
   "execution_count": 209,
   "metadata": {},
   "outputs": [],
   "source": [
    "# Calculate total points by team\n",
    "team_scores = df.groupby(\"swimmer_team\")[\"Score\"].sum()\n",
    "\n",
    "# Export the team scores to a CSV file\n",
    "team_scores.to_csv(\"team_scores.csv\")"
   ]
  },
  {
   "cell_type": "code",
   "execution_count": null,
   "metadata": {},
   "outputs": [],
   "source": []
  }
 ],
 "metadata": {
  "kernelspec": {
   "display_name": "Python 3",
   "language": "python",
   "name": "python3"
  },
  "language_info": {
   "codemirror_mode": {
    "name": "ipython",
    "version": 3
   },
   "file_extension": ".py",
   "mimetype": "text/x-python",
   "name": "python",
   "nbconvert_exporter": "python",
   "pygments_lexer": "ipython3",
   "version": "3.10.11"
  }
 },
 "nbformat": 4,
 "nbformat_minor": 2
}
